{
 "cells": [
  {
   "cell_type": "markdown",
   "metadata": {},
   "source": [
    "### Description of the dataset"
   ]
  },
  {
   "cell_type": "markdown",
   "metadata": {},
   "source": [
    "Daily weather observations from numerous weather stations"
   ]
  },
  {
   "cell_type": "markdown",
   "metadata": {},
   "source": [
    "### Features description\n"
   ]
  },
  {
   "cell_type": "markdown",
   "metadata": {},
   "source": [
    "Date: The date of observation\n",
    "\n",
    "Location:  The location\n",
    "\n",
    "MinTemp: The minimum temperature in degrees celsius\n",
    "\n",
    "MaxTemp: The maximum temperature in degrees celsius\n",
    "\n",
    "Rainfall: The amount of rainfall recorded for the day in mm\n",
    "\n",
    "Evaporation: The so-called Class A pan evaporation (mm) in the 24 hours to 9am\n",
    "\n",
    "Sunshine: The number of hours of bright sunshine in the day.\n",
    "\n",
    "WindGustDir: The direction of the strongest wind gust in the 24 hours to midnight\n",
    "\n",
    "WindGustSpeed: The speed (km/h) of the strongest wind gust in the 24 hours to midnight\n",
    "\n",
    "WindDir9am: Direction of the wind at 9am\n",
    "\n",
    "WindDir3pm: Direction of the wind at 3pm\n",
    "\n",
    "WindSpeed9am: Wind speed (km/hr) averaged over 10 minutes prior to 9am\n",
    "\n",
    "WindSpeed3pm: Wind speed (km/hr) averaged over 10 minutes prior to 3pm\n",
    "\n",
    "Humidity9am: Humidity (percent) at 9am\n",
    "\n",
    "Humidity3pm: Humidity (percent) at 3pm\n",
    "\n",
    "Pressure9am: Atmospheric pressure (hpa) reduced to mean sea level at 9am\n",
    "\n",
    "Pressure3pm: Atmospheric pressure (hpa) reduced to mean sea level at 3pm\n",
    "\n",
    "Cloud9am: Fraction of sky obscured by cloud at 9am. This is measured in \"oktas\", which are a unit of                    eigths. It records how many eigths of the sky are obscured by cloud. A 0 measure indicates                    completely clear sky whilst an 8 indicates that it is completely overcast.\n",
    "\n",
    "Cloud3pm: Fraction of sky obscured by cloud (in \"oktas\": eighths) at 3pm.\n",
    "\n",
    "Temp9am: Temperature (degrees C) at 9am\n",
    "\n",
    "\n",
    "Temp3pm: Temperature (degrees C) at 3pm\n",
    "\n",
    "RainToday: Boolean: 1 if precipitation (mm) in the 24 hours to 9am exceeds 1mm, otherwise 0\n",
    "\n",
    "RISK_MM: The amount of next day rain in mm. Used to create response variable RainTomorrow. A kind of  measure of the \"risk\".\n",
    "\n",
    "\n",
    "RainTomorrow: The target variable. Did it rain strongly tomorrow (flood will happen)?, this variable will be our target in the future"
   ]
  },
  {
   "cell_type": "markdown",
   "metadata": {},
   "source": [
    "### Source"
   ]
  },
  {
   "cell_type": "markdown",
   "metadata": {},
   "source": [
    "As I cannot find a dataset for Scotland in the open data websites, I created this dataset just for simulation and I have focused on Stirling city it had surface water flooding this year. I can ensure that 70 percent of the values are real, not added randomly because I have referenced on historic weather data. "
   ]
  },
  {
   "cell_type": "markdown",
   "metadata": {},
   "source": [
    "### Reference"
   ]
  },
  {
   "cell_type": "markdown",
   "metadata": {},
   "source": [
    "https://www.timeanddate.com/weather/uk/stirling/historic\n",
    "\n",
    "http://data.orc.govt.nz/"
   ]
  },
  {
   "cell_type": "code",
   "execution_count": 62,
   "metadata": {},
   "outputs": [],
   "source": [
    "import pandas as pd #Data loading and preprocessing\n",
    "import numpy as np #Matrix Operation\n",
    "#Plotting;\n",
    "import matplotlib.pyplot as plt \n",
    "%matplotlib inline\n",
    "import seaborn as sns\n",
    "from sklearn.linear_model import LogisticRegression\n",
    "#For encoding the features\n",
    "from sklearn.preprocessing import LabelEncoder,LabelBinarizer\n",
    "import warnings\n",
    "warnings.filterwarnings(\"ignore\")"
   ]
  },
  {
   "cell_type": "code",
   "execution_count": 160,
   "metadata": {},
   "outputs": [
    {
     "data": {
      "text/html": [
       "<div>\n",
       "<style scoped>\n",
       "    .dataframe tbody tr th:only-of-type {\n",
       "        vertical-align: middle;\n",
       "    }\n",
       "\n",
       "    .dataframe tbody tr th {\n",
       "        vertical-align: top;\n",
       "    }\n",
       "\n",
       "    .dataframe thead th {\n",
       "        text-align: right;\n",
       "    }\n",
       "</style>\n",
       "<table border=\"1\" class=\"dataframe\">\n",
       "  <thead>\n",
       "    <tr style=\"text-align: right;\">\n",
       "      <th></th>\n",
       "      <th>Unnamed: 0</th>\n",
       "      <th>Date</th>\n",
       "      <th>Location</th>\n",
       "      <th>MinTemp</th>\n",
       "      <th>MaxTemp</th>\n",
       "      <th>Rainfall</th>\n",
       "      <th>Evaporation</th>\n",
       "      <th>Sunshine</th>\n",
       "      <th>WindGustDir</th>\n",
       "      <th>WindGustSpeed</th>\n",
       "      <th>...</th>\n",
       "      <th>Humidity3pm</th>\n",
       "      <th>Pressure9am</th>\n",
       "      <th>Pressure3pm</th>\n",
       "      <th>Cloud9am</th>\n",
       "      <th>Cloud3pm</th>\n",
       "      <th>Temp9am</th>\n",
       "      <th>Temp3pm</th>\n",
       "      <th>RainToday</th>\n",
       "      <th>RISK_MM</th>\n",
       "      <th>RainTomorrow</th>\n",
       "    </tr>\n",
       "  </thead>\n",
       "  <tbody>\n",
       "    <tr>\n",
       "      <th>0</th>\n",
       "      <td>169904</td>\n",
       "      <td>2008-07-01</td>\n",
       "      <td>Stirling</td>\n",
       "      <td>20.0</td>\n",
       "      <td>33.1</td>\n",
       "      <td>0.0</td>\n",
       "      <td>4.4</td>\n",
       "      <td>11.0</td>\n",
       "      <td>E</td>\n",
       "      <td>41.0</td>\n",
       "      <td>...</td>\n",
       "      <td>32.0</td>\n",
       "      <td>1016.0</td>\n",
       "      <td>1012.1</td>\n",
       "      <td>1.0</td>\n",
       "      <td>2.0</td>\n",
       "      <td>25.4</td>\n",
       "      <td>32.3</td>\n",
       "      <td>No</td>\n",
       "      <td>0.0</td>\n",
       "      <td>No</td>\n",
       "    </tr>\n",
       "    <tr>\n",
       "      <th>1</th>\n",
       "      <td>169905</td>\n",
       "      <td>2008-07-02</td>\n",
       "      <td>Stirling</td>\n",
       "      <td>19.4</td>\n",
       "      <td>32.4</td>\n",
       "      <td>0.0</td>\n",
       "      <td>6.0</td>\n",
       "      <td>10.4</td>\n",
       "      <td>ENE</td>\n",
       "      <td>50.0</td>\n",
       "      <td>...</td>\n",
       "      <td>17.0</td>\n",
       "      <td>1016.8</td>\n",
       "      <td>1012.4</td>\n",
       "      <td>1.0</td>\n",
       "      <td>1.0</td>\n",
       "      <td>24.3</td>\n",
       "      <td>31.9</td>\n",
       "      <td>No</td>\n",
       "      <td>0.0</td>\n",
       "      <td>No</td>\n",
       "    </tr>\n",
       "    <tr>\n",
       "      <th>2</th>\n",
       "      <td>169906</td>\n",
       "      <td>2008-07-03</td>\n",
       "      <td>Stirling</td>\n",
       "      <td>18.2</td>\n",
       "      <td>31.8</td>\n",
       "      <td>0.0</td>\n",
       "      <td>8.0</td>\n",
       "      <td>11.0</td>\n",
       "      <td>E</td>\n",
       "      <td>46.0</td>\n",
       "      <td>...</td>\n",
       "      <td>24.0</td>\n",
       "      <td>1017.2</td>\n",
       "      <td>1013.0</td>\n",
       "      <td>0.0</td>\n",
       "      <td>1.0</td>\n",
       "      <td>24.3</td>\n",
       "      <td>31.2</td>\n",
       "      <td>No</td>\n",
       "      <td>0.0</td>\n",
       "      <td>No</td>\n",
       "    </tr>\n",
       "    <tr>\n",
       "      <th>3</th>\n",
       "      <td>169907</td>\n",
       "      <td>2008-07-04</td>\n",
       "      <td>Stirling</td>\n",
       "      <td>17.3</td>\n",
       "      <td>30.7</td>\n",
       "      <td>0.0</td>\n",
       "      <td>7.0</td>\n",
       "      <td>10.4</td>\n",
       "      <td>E</td>\n",
       "      <td>44.0</td>\n",
       "      <td>...</td>\n",
       "      <td>16.0</td>\n",
       "      <td>1017.3</td>\n",
       "      <td>1013.6</td>\n",
       "      <td>2.0</td>\n",
       "      <td>6.0</td>\n",
       "      <td>21.3</td>\n",
       "      <td>29.8</td>\n",
       "      <td>No</td>\n",
       "      <td>0.0</td>\n",
       "      <td>No</td>\n",
       "    </tr>\n",
       "    <tr>\n",
       "      <th>4</th>\n",
       "      <td>169908</td>\n",
       "      <td>2008-07-05</td>\n",
       "      <td>Stirling</td>\n",
       "      <td>15.5</td>\n",
       "      <td>30.8</td>\n",
       "      <td>0.0</td>\n",
       "      <td>7.0</td>\n",
       "      <td>10.8</td>\n",
       "      <td>ESE</td>\n",
       "      <td>46.0</td>\n",
       "      <td>...</td>\n",
       "      <td>16.0</td>\n",
       "      <td>1016.3</td>\n",
       "      <td>1012.6</td>\n",
       "      <td>1.0</td>\n",
       "      <td>1.0</td>\n",
       "      <td>22.2</td>\n",
       "      <td>29.6</td>\n",
       "      <td>No</td>\n",
       "      <td>0.0</td>\n",
       "      <td>No</td>\n",
       "    </tr>\n",
       "  </tbody>\n",
       "</table>\n",
       "<p>5 rows × 25 columns</p>\n",
       "</div>"
      ],
      "text/plain": [
       "   Unnamed: 0        Date  Location  MinTemp  MaxTemp  Rainfall  Evaporation  \\\n",
       "0      169904  2008-07-01  Stirling     20.0     33.1       0.0          4.4   \n",
       "1      169905  2008-07-02  Stirling     19.4     32.4       0.0          6.0   \n",
       "2      169906  2008-07-03  Stirling     18.2     31.8       0.0          8.0   \n",
       "3      169907  2008-07-04  Stirling     17.3     30.7       0.0          7.0   \n",
       "4      169908  2008-07-05  Stirling     15.5     30.8       0.0          7.0   \n",
       "\n",
       "   Sunshine WindGustDir  WindGustSpeed  ... Humidity3pm Pressure9am  \\\n",
       "0      11.0           E           41.0  ...        32.0      1016.0   \n",
       "1      10.4         ENE           50.0  ...        17.0      1016.8   \n",
       "2      11.0           E           46.0  ...        24.0      1017.2   \n",
       "3      10.4           E           44.0  ...        16.0      1017.3   \n",
       "4      10.8         ESE           46.0  ...        16.0      1016.3   \n",
       "\n",
       "   Pressure3pm  Cloud9am  Cloud3pm  Temp9am  Temp3pm  RainToday  RISK_MM  \\\n",
       "0       1012.1       1.0       2.0     25.4     32.3         No      0.0   \n",
       "1       1012.4       1.0       1.0     24.3     31.9         No      0.0   \n",
       "2       1013.0       0.0       1.0     24.3     31.2         No      0.0   \n",
       "3       1013.6       2.0       6.0     21.3     29.8         No      0.0   \n",
       "4       1012.6       1.0       1.0     22.2     29.6         No      0.0   \n",
       "\n",
       "   RainTomorrow  \n",
       "0            No  \n",
       "1            No  \n",
       "2            No  \n",
       "3            No  \n",
       "4            No  \n",
       "\n",
       "[5 rows x 25 columns]"
      ]
     },
     "execution_count": 160,
     "metadata": {},
     "output_type": "execute_result"
    }
   ],
   "source": [
    "data=pd.read_csv(\"/root/Desktop/Stirling.csv\")\n",
    "data.head()"
   ]
  },
  {
   "cell_type": "code",
   "execution_count": 161,
   "metadata": {},
   "outputs": [
    {
     "data": {
      "text/plain": [
       "Index(['Unnamed: 0', 'Date', 'Location', 'MinTemp', 'MaxTemp', 'Rainfall',\n",
       "       'Evaporation', 'Sunshine', 'WindGustDir', 'WindGustSpeed', 'WindDir9am',\n",
       "       'WindDir3pm', 'WindSpeed9am', 'WindSpeed3pm', 'Humidity9am',\n",
       "       'Humidity3pm', 'Pressure9am', 'Pressure3pm', 'Cloud9am', 'Cloud3pm',\n",
       "       'Temp9am', 'Temp3pm', 'RainToday', 'RISK_MM', 'RainTomorrow'],\n",
       "      dtype='object')"
      ]
     },
     "execution_count": 161,
     "metadata": {},
     "output_type": "execute_result"
    }
   ],
   "source": [
    "data.columns"
   ]
  },
  {
   "cell_type": "markdown",
   "metadata": {},
   "source": [
    "### Objective"
   ]
  },
  {
   "cell_type": "markdown",
   "metadata": {},
   "source": [
    "Predict whether or not it will flood tomorrow by training a binary classification model on target RainTomorrow."
   ]
  },
  {
   "cell_type": "markdown",
   "metadata": {},
   "source": [
    "### 1-Cleaning the Data :\n"
   ]
  },
  {
   "cell_type": "code",
   "execution_count": 162,
   "metadata": {},
   "outputs": [
    {
     "data": {
      "text/html": [
       "<div>\n",
       "<style scoped>\n",
       "    .dataframe tbody tr th:only-of-type {\n",
       "        vertical-align: middle;\n",
       "    }\n",
       "\n",
       "    .dataframe tbody tr th {\n",
       "        vertical-align: top;\n",
       "    }\n",
       "\n",
       "    .dataframe thead th {\n",
       "        text-align: right;\n",
       "    }\n",
       "</style>\n",
       "<table border=\"1\" class=\"dataframe\">\n",
       "  <thead>\n",
       "    <tr style=\"text-align: right;\">\n",
       "      <th></th>\n",
       "      <th>Unnamed: 0</th>\n",
       "      <th>Date</th>\n",
       "      <th>Location</th>\n",
       "      <th>MinTemp</th>\n",
       "      <th>MaxTemp</th>\n",
       "      <th>Rainfall</th>\n",
       "      <th>Evaporation</th>\n",
       "      <th>Sunshine</th>\n",
       "      <th>WindGustDir</th>\n",
       "      <th>WindGustSpeed</th>\n",
       "      <th>...</th>\n",
       "      <th>Humidity3pm</th>\n",
       "      <th>Pressure9am</th>\n",
       "      <th>Pressure3pm</th>\n",
       "      <th>Cloud9am</th>\n",
       "      <th>Cloud3pm</th>\n",
       "      <th>Temp9am</th>\n",
       "      <th>Temp3pm</th>\n",
       "      <th>RainToday</th>\n",
       "      <th>RISK_MM</th>\n",
       "      <th>RainTomorrow</th>\n",
       "    </tr>\n",
       "  </thead>\n",
       "  <tbody>\n",
       "    <tr>\n",
       "      <th>0</th>\n",
       "      <td>169904</td>\n",
       "      <td>2008-07-01</td>\n",
       "      <td>Stirling</td>\n",
       "      <td>20.0</td>\n",
       "      <td>33.1</td>\n",
       "      <td>0.0</td>\n",
       "      <td>4.4</td>\n",
       "      <td>11.0</td>\n",
       "      <td>E</td>\n",
       "      <td>41.0</td>\n",
       "      <td>...</td>\n",
       "      <td>32.0</td>\n",
       "      <td>1016.0</td>\n",
       "      <td>1012.1</td>\n",
       "      <td>1.0</td>\n",
       "      <td>2.0</td>\n",
       "      <td>25.4</td>\n",
       "      <td>32.3</td>\n",
       "      <td>No</td>\n",
       "      <td>0.0</td>\n",
       "      <td>No</td>\n",
       "    </tr>\n",
       "    <tr>\n",
       "      <th>1</th>\n",
       "      <td>169905</td>\n",
       "      <td>2008-07-02</td>\n",
       "      <td>Stirling</td>\n",
       "      <td>19.4</td>\n",
       "      <td>32.4</td>\n",
       "      <td>0.0</td>\n",
       "      <td>6.0</td>\n",
       "      <td>10.4</td>\n",
       "      <td>ENE</td>\n",
       "      <td>50.0</td>\n",
       "      <td>...</td>\n",
       "      <td>17.0</td>\n",
       "      <td>1016.8</td>\n",
       "      <td>1012.4</td>\n",
       "      <td>1.0</td>\n",
       "      <td>1.0</td>\n",
       "      <td>24.3</td>\n",
       "      <td>31.9</td>\n",
       "      <td>No</td>\n",
       "      <td>0.0</td>\n",
       "      <td>No</td>\n",
       "    </tr>\n",
       "    <tr>\n",
       "      <th>2</th>\n",
       "      <td>169906</td>\n",
       "      <td>2008-07-03</td>\n",
       "      <td>Stirling</td>\n",
       "      <td>18.2</td>\n",
       "      <td>31.8</td>\n",
       "      <td>0.0</td>\n",
       "      <td>8.0</td>\n",
       "      <td>11.0</td>\n",
       "      <td>E</td>\n",
       "      <td>46.0</td>\n",
       "      <td>...</td>\n",
       "      <td>24.0</td>\n",
       "      <td>1017.2</td>\n",
       "      <td>1013.0</td>\n",
       "      <td>0.0</td>\n",
       "      <td>1.0</td>\n",
       "      <td>24.3</td>\n",
       "      <td>31.2</td>\n",
       "      <td>No</td>\n",
       "      <td>0.0</td>\n",
       "      <td>No</td>\n",
       "    </tr>\n",
       "    <tr>\n",
       "      <th>3</th>\n",
       "      <td>169907</td>\n",
       "      <td>2008-07-04</td>\n",
       "      <td>Stirling</td>\n",
       "      <td>17.3</td>\n",
       "      <td>30.7</td>\n",
       "      <td>0.0</td>\n",
       "      <td>7.0</td>\n",
       "      <td>10.4</td>\n",
       "      <td>E</td>\n",
       "      <td>44.0</td>\n",
       "      <td>...</td>\n",
       "      <td>16.0</td>\n",
       "      <td>1017.3</td>\n",
       "      <td>1013.6</td>\n",
       "      <td>2.0</td>\n",
       "      <td>6.0</td>\n",
       "      <td>21.3</td>\n",
       "      <td>29.8</td>\n",
       "      <td>No</td>\n",
       "      <td>0.0</td>\n",
       "      <td>No</td>\n",
       "    </tr>\n",
       "    <tr>\n",
       "      <th>4</th>\n",
       "      <td>169908</td>\n",
       "      <td>2008-07-05</td>\n",
       "      <td>Stirling</td>\n",
       "      <td>15.5</td>\n",
       "      <td>30.8</td>\n",
       "      <td>0.0</td>\n",
       "      <td>7.0</td>\n",
       "      <td>10.8</td>\n",
       "      <td>ESE</td>\n",
       "      <td>46.0</td>\n",
       "      <td>...</td>\n",
       "      <td>16.0</td>\n",
       "      <td>1016.3</td>\n",
       "      <td>1012.6</td>\n",
       "      <td>1.0</td>\n",
       "      <td>1.0</td>\n",
       "      <td>22.2</td>\n",
       "      <td>29.6</td>\n",
       "      <td>No</td>\n",
       "      <td>0.0</td>\n",
       "      <td>No</td>\n",
       "    </tr>\n",
       "  </tbody>\n",
       "</table>\n",
       "<p>5 rows × 25 columns</p>\n",
       "</div>"
      ],
      "text/plain": [
       "   Unnamed: 0        Date  Location  MinTemp  MaxTemp  Rainfall  Evaporation  \\\n",
       "0      169904  2008-07-01  Stirling     20.0     33.1       0.0          4.4   \n",
       "1      169905  2008-07-02  Stirling     19.4     32.4       0.0          6.0   \n",
       "2      169906  2008-07-03  Stirling     18.2     31.8       0.0          8.0   \n",
       "3      169907  2008-07-04  Stirling     17.3     30.7       0.0          7.0   \n",
       "4      169908  2008-07-05  Stirling     15.5     30.8       0.0          7.0   \n",
       "\n",
       "   Sunshine WindGustDir  WindGustSpeed  ... Humidity3pm Pressure9am  \\\n",
       "0      11.0           E           41.0  ...        32.0      1016.0   \n",
       "1      10.4         ENE           50.0  ...        17.0      1016.8   \n",
       "2      11.0           E           46.0  ...        24.0      1017.2   \n",
       "3      10.4           E           44.0  ...        16.0      1017.3   \n",
       "4      10.8         ESE           46.0  ...        16.0      1016.3   \n",
       "\n",
       "   Pressure3pm  Cloud9am  Cloud3pm  Temp9am  Temp3pm  RainToday  RISK_MM  \\\n",
       "0       1012.1       1.0       2.0     25.4     32.3         No      0.0   \n",
       "1       1012.4       1.0       1.0     24.3     31.9         No      0.0   \n",
       "2       1013.0       0.0       1.0     24.3     31.2         No      0.0   \n",
       "3       1013.6       2.0       6.0     21.3     29.8         No      0.0   \n",
       "4       1012.6       1.0       1.0     22.2     29.6         No      0.0   \n",
       "\n",
       "   RainTomorrow  \n",
       "0            No  \n",
       "1            No  \n",
       "2            No  \n",
       "3            No  \n",
       "4            No  \n",
       "\n",
       "[5 rows x 25 columns]"
      ]
     },
     "execution_count": 162,
     "metadata": {},
     "output_type": "execute_result"
    }
   ],
   "source": [
    "data.head()"
   ]
  },
  {
   "cell_type": "code",
   "execution_count": 163,
   "metadata": {},
   "outputs": [
    {
     "data": {
      "text/plain": [
       "Unnamed: 0       False\n",
       "Date             False\n",
       "Location         False\n",
       "MinTemp           True\n",
       "MaxTemp           True\n",
       "Rainfall          True\n",
       "Evaporation       True\n",
       "Sunshine          True\n",
       "WindGustDir       True\n",
       "WindGustSpeed     True\n",
       "WindDir9am        True\n",
       "WindDir3pm        True\n",
       "WindSpeed9am      True\n",
       "WindSpeed3pm      True\n",
       "Humidity9am       True\n",
       "Humidity3pm       True\n",
       "Pressure9am       True\n",
       "Pressure3pm       True\n",
       "Cloud9am          True\n",
       "Cloud3pm          True\n",
       "Temp9am          False\n",
       "Temp3pm           True\n",
       "RainToday         True\n",
       "RISK_MM           True\n",
       "RainTomorrow      True\n",
       "dtype: bool"
      ]
     },
     "execution_count": 163,
     "metadata": {},
     "output_type": "execute_result"
    }
   ],
   "source": [
    "data.drop_duplicates(inplace=True)\n",
    "data.isnull().any()\n"
   ]
  },
  {
   "cell_type": "markdown",
   "metadata": {},
   "source": [
    "#### we have to fill the null values"
   ]
  },
  {
   "cell_type": "markdown",
   "metadata": {},
   "source": [
    "So let's check if it's balanced or not"
   ]
  },
  {
   "cell_type": "code",
   "execution_count": 164,
   "metadata": {},
   "outputs": [
    {
     "data": {
      "image/png": "[encoded data removed]",
      "text/plain": [
       "<Figure size 432x288 with 1 Axes>"
      ]
     },
     "metadata": {},
     "output_type": "display_data"
    }
   ],
   "source": [
    "sns.set(style=\"whitegrid\")\n",
    "sns.countplot(data.RainTomorrow)\n",
    "plt.title(\"Target labels\")\n",
    "plt.show()\n"
   ]
  },
  {
   "cell_type": "markdown",
   "metadata": {},
   "source": [
    "From above plot it is clear that data set is imbalanced"
   ]
  },
  {
   "cell_type": "code",
   "execution_count": 165,
   "metadata": {},
   "outputs": [],
   "source": [
    "#Separating the data based on its class label.\n",
    "data_yes = data[data['RainTomorrow']=='Yes']\n",
    "data_no = data[data['RainTomorrow']=='No']"
   ]
  },
  {
   "cell_type": "markdown",
   "metadata": {},
   "source": [
    "Now let's replace the NaN values with 0 and WindGustSpeed -- replacing with median\n"
   ]
  },
  {
   "cell_type": "code",
   "execution_count": 166,
   "metadata": {},
   "outputs": [],
   "source": [
    "#For Temparatures we cannot replace NaN values with 0, hence replacing NaN with its respective mode value\n",
    "data_yes['MinTemp'].fillna(value=data_yes['MinTemp'].mode()[0],inplace=True )\n",
    "data_no['MinTemp'].fillna(value=data_no['MinTemp'].mode()[0],inplace=True )\n",
    "\n",
    "data_yes['MaxTemp'].fillna(value=data_yes['MaxTemp'].mode()[0],inplace=True )\n",
    "data_no['MaxTemp'].fillna(value=data_no['MaxTemp'].mode()[0],inplace=True )\n",
    "\n",
    "\n",
    "data_yes['Temp9am'].fillna(value=data_yes['Temp9am'].mode()[0],inplace=True )\n",
    "data_no['Temp9am'].fillna(value=data_no['Temp9am'].mode()[0],inplace=True )\n",
    "\n",
    "data_yes['Temp3pm'].fillna(value=data_yes['Temp3pm'].mode()[0],inplace=True )\n",
    "data_no['Temp3pm'].fillna(value=data_no['Temp3pm'].mode()[0],inplace=True )\n",
    "\n",
    "\n",
    "# For humidity also \n",
    "data_yes['Humidity9am'].fillna(value=data_yes['Humidity9am'].mode()[0],inplace=True )\n",
    "data_no['Humidity9am'].fillna(value=data_no['Humidity9am'].mode()[0],inplace=True )\n",
    "\n",
    "\n",
    "\n",
    "data_yes['Humidity3pm'].fillna(value=data_yes['Humidity3pm'].mode()[0],inplace=True )\n",
    "data_no['Humidity3pm'].fillna(value=data_no['Humidity3pm'].mode()[0],inplace=True )\n",
    "\n",
    "# For the rain fall feature we can replace NaN with 0.0 which says there is no rain fall\n",
    "data_yes['Rainfall'].fillna(value=0.0,inplace=True)\n",
    "data_no['Rainfall'].fillna(value=0.0,inplace=True)\n",
    "\n",
    "\n",
    "data_yes['Pressure9am'].fillna(value=data_yes['Pressure9am'].median(),inplace=True )\n",
    "data_no['Pressure9am'].fillna(value=data_no['Pressure9am'].median(),inplace=True )\n",
    "\n",
    "data_yes['Pressure3pm'].fillna(value=data_yes['Pressure3pm'].median(),inplace=True )\n",
    "data_no['Pressure3pm'].fillna(value=data_no['Pressure3pm'].median(),inplace=True )\n",
    "\n",
    "\n",
    "data_yes['WindSpeed9am'].fillna(value=data_yes['WindSpeed9am'].median(),inplace=True )\n",
    "data_no['WindSpeed9am'].fillna(value=data_no['WindSpeed9am'].median(),inplace=True )\n",
    "\n",
    "data_yes['WindSpeed3pm'].fillna(value=data_yes['WindSpeed3pm'].median(),inplace=True )\n",
    "data_no['WindSpeed3pm'].fillna(value=data_no['WindSpeed3pm'].median(),inplace=True )\n",
    "\n",
    "#WindGustSpeed -- replacing with median\n",
    "data_yes['WindGustSpeed'].fillna(value=data_yes['WindGustSpeed'].median(),inplace=True)\n",
    "data_no['WindGustSpeed'].fillna(value=data_no['WindGustSpeed'].median(),inplace=True)"
   ]
  },
  {
   "cell_type": "code",
   "execution_count": 167,
   "metadata": {},
   "outputs": [],
   "source": [
    "# For RainToday feature we cannot fill any value, so better to remove the NaN values \n",
    "data_yes.dropna(inplace=True)\n",
    "data_no.dropna(inplace=True)"
   ]
  },
  {
   "cell_type": "code",
   "execution_count": 168,
   "metadata": {},
   "outputs": [],
   "source": [
    "data_filled= data_yes.append(data_no, ignore_index=True)"
   ]
  },
  {
   "cell_type": "code",
   "execution_count": 169,
   "metadata": {},
   "outputs": [
    {
     "data": {
      "text/plain": [
       "Unnamed: 0       False\n",
       "Date             False\n",
       "Location         False\n",
       "MinTemp          False\n",
       "MaxTemp          False\n",
       "Rainfall         False\n",
       "Evaporation      False\n",
       "Sunshine         False\n",
       "WindGustDir      False\n",
       "WindGustSpeed    False\n",
       "WindDir9am       False\n",
       "WindDir3pm       False\n",
       "WindSpeed9am     False\n",
       "WindSpeed3pm     False\n",
       "Humidity9am      False\n",
       "Humidity3pm      False\n",
       "Pressure9am      False\n",
       "Pressure3pm      False\n",
       "Cloud9am         False\n",
       "Cloud3pm         False\n",
       "Temp9am          False\n",
       "Temp3pm          False\n",
       "RainToday        False\n",
       "RISK_MM          False\n",
       "RainTomorrow     False\n",
       "dtype: bool"
      ]
     },
     "execution_count": 169,
     "metadata": {},
     "output_type": "execute_result"
    }
   ],
   "source": [
    "data_filled.isnull().any()\n"
   ]
  },
  {
   "cell_type": "markdown",
   "metadata": {},
   "source": [
    "Now, As we can see we don't have any NaN"
   ]
  },
  {
   "cell_type": "code",
   "execution_count": 170,
   "metadata": {},
   "outputs": [
    {
     "data": {
      "text/html": [
       "<div>\n",
       "<style scoped>\n",
       "    .dataframe tbody tr th:only-of-type {\n",
       "        vertical-align: middle;\n",
       "    }\n",
       "\n",
       "    .dataframe tbody tr th {\n",
       "        vertical-align: top;\n",
       "    }\n",
       "\n",
       "    .dataframe thead th {\n",
       "        text-align: right;\n",
       "    }\n",
       "</style>\n",
       "<table border=\"1\" class=\"dataframe\">\n",
       "  <thead>\n",
       "    <tr style=\"text-align: right;\">\n",
       "      <th></th>\n",
       "      <th>Unnamed: 0</th>\n",
       "      <th>Date</th>\n",
       "      <th>Location</th>\n",
       "      <th>MinTemp</th>\n",
       "      <th>MaxTemp</th>\n",
       "      <th>Rainfall</th>\n",
       "      <th>Evaporation</th>\n",
       "      <th>Sunshine</th>\n",
       "      <th>WindGustDir</th>\n",
       "      <th>WindGustSpeed</th>\n",
       "      <th>...</th>\n",
       "      <th>Humidity3pm</th>\n",
       "      <th>Pressure9am</th>\n",
       "      <th>Pressure3pm</th>\n",
       "      <th>Cloud9am</th>\n",
       "      <th>Cloud3pm</th>\n",
       "      <th>Temp9am</th>\n",
       "      <th>Temp3pm</th>\n",
       "      <th>RainToday</th>\n",
       "      <th>RISK_MM</th>\n",
       "      <th>RainTomorrow</th>\n",
       "    </tr>\n",
       "  </thead>\n",
       "  <tbody>\n",
       "    <tr>\n",
       "      <th>894</th>\n",
       "      <td>169904</td>\n",
       "      <td>2008-07-01</td>\n",
       "      <td>Stirling</td>\n",
       "      <td>20.0</td>\n",
       "      <td>33.1</td>\n",
       "      <td>0.0</td>\n",
       "      <td>4.4</td>\n",
       "      <td>11.0</td>\n",
       "      <td>E</td>\n",
       "      <td>41.0</td>\n",
       "      <td>...</td>\n",
       "      <td>32.0</td>\n",
       "      <td>1016.0</td>\n",
       "      <td>1012.1</td>\n",
       "      <td>1.0</td>\n",
       "      <td>2.0</td>\n",
       "      <td>25.4</td>\n",
       "      <td>32.3</td>\n",
       "      <td>No</td>\n",
       "      <td>0.0</td>\n",
       "      <td>No</td>\n",
       "    </tr>\n",
       "    <tr>\n",
       "      <th>895</th>\n",
       "      <td>169905</td>\n",
       "      <td>2008-07-02</td>\n",
       "      <td>Stirling</td>\n",
       "      <td>19.4</td>\n",
       "      <td>32.4</td>\n",
       "      <td>0.0</td>\n",
       "      <td>6.0</td>\n",
       "      <td>10.4</td>\n",
       "      <td>ENE</td>\n",
       "      <td>50.0</td>\n",
       "      <td>...</td>\n",
       "      <td>17.0</td>\n",
       "      <td>1016.8</td>\n",
       "      <td>1012.4</td>\n",
       "      <td>1.0</td>\n",
       "      <td>1.0</td>\n",
       "      <td>24.3</td>\n",
       "      <td>31.9</td>\n",
       "      <td>No</td>\n",
       "      <td>0.0</td>\n",
       "      <td>No</td>\n",
       "    </tr>\n",
       "    <tr>\n",
       "      <th>896</th>\n",
       "      <td>169906</td>\n",
       "      <td>2008-07-03</td>\n",
       "      <td>Stirling</td>\n",
       "      <td>18.2</td>\n",
       "      <td>31.8</td>\n",
       "      <td>0.0</td>\n",
       "      <td>8.0</td>\n",
       "      <td>11.0</td>\n",
       "      <td>E</td>\n",
       "      <td>46.0</td>\n",
       "      <td>...</td>\n",
       "      <td>24.0</td>\n",
       "      <td>1017.2</td>\n",
       "      <td>1013.0</td>\n",
       "      <td>0.0</td>\n",
       "      <td>1.0</td>\n",
       "      <td>24.3</td>\n",
       "      <td>31.2</td>\n",
       "      <td>No</td>\n",
       "      <td>0.0</td>\n",
       "      <td>No</td>\n",
       "    </tr>\n",
       "    <tr>\n",
       "      <th>897</th>\n",
       "      <td>169907</td>\n",
       "      <td>2008-07-04</td>\n",
       "      <td>Stirling</td>\n",
       "      <td>17.3</td>\n",
       "      <td>30.7</td>\n",
       "      <td>0.0</td>\n",
       "      <td>7.0</td>\n",
       "      <td>10.4</td>\n",
       "      <td>E</td>\n",
       "      <td>44.0</td>\n",
       "      <td>...</td>\n",
       "      <td>16.0</td>\n",
       "      <td>1017.3</td>\n",
       "      <td>1013.6</td>\n",
       "      <td>2.0</td>\n",
       "      <td>6.0</td>\n",
       "      <td>21.3</td>\n",
       "      <td>29.8</td>\n",
       "      <td>No</td>\n",
       "      <td>0.0</td>\n",
       "      <td>No</td>\n",
       "    </tr>\n",
       "    <tr>\n",
       "      <th>898</th>\n",
       "      <td>169908</td>\n",
       "      <td>2008-07-05</td>\n",
       "      <td>Stirling</td>\n",
       "      <td>15.5</td>\n",
       "      <td>30.8</td>\n",
       "      <td>0.0</td>\n",
       "      <td>7.0</td>\n",
       "      <td>10.8</td>\n",
       "      <td>ESE</td>\n",
       "      <td>46.0</td>\n",
       "      <td>...</td>\n",
       "      <td>16.0</td>\n",
       "      <td>1016.3</td>\n",
       "      <td>1012.6</td>\n",
       "      <td>1.0</td>\n",
       "      <td>1.0</td>\n",
       "      <td>22.2</td>\n",
       "      <td>29.6</td>\n",
       "      <td>No</td>\n",
       "      <td>0.0</td>\n",
       "      <td>No</td>\n",
       "    </tr>\n",
       "  </tbody>\n",
       "</table>\n",
       "<p>5 rows × 25 columns</p>\n",
       "</div>"
      ],
      "text/plain": [
       "     Unnamed: 0        Date  Location  MinTemp  MaxTemp  Rainfall  \\\n",
       "894      169904  2008-07-01  Stirling     20.0     33.1       0.0   \n",
       "895      169905  2008-07-02  Stirling     19.4     32.4       0.0   \n",
       "896      169906  2008-07-03  Stirling     18.2     31.8       0.0   \n",
       "897      169907  2008-07-04  Stirling     17.3     30.7       0.0   \n",
       "898      169908  2008-07-05  Stirling     15.5     30.8       0.0   \n",
       "\n",
       "     Evaporation  Sunshine WindGustDir  WindGustSpeed  ... Humidity3pm  \\\n",
       "894          4.4      11.0           E           41.0  ...        32.0   \n",
       "895          6.0      10.4         ENE           50.0  ...        17.0   \n",
       "896          8.0      11.0           E           46.0  ...        24.0   \n",
       "897          7.0      10.4           E           44.0  ...        16.0   \n",
       "898          7.0      10.8         ESE           46.0  ...        16.0   \n",
       "\n",
       "    Pressure9am  Pressure3pm  Cloud9am  Cloud3pm  Temp9am  Temp3pm  RainToday  \\\n",
       "894      1016.0       1012.1       1.0       2.0     25.4     32.3         No   \n",
       "895      1016.8       1012.4       1.0       1.0     24.3     31.9         No   \n",
       "896      1017.2       1013.0       0.0       1.0     24.3     31.2         No   \n",
       "897      1017.3       1013.6       2.0       6.0     21.3     29.8         No   \n",
       "898      1016.3       1012.6       1.0       1.0     22.2     29.6         No   \n",
       "\n",
       "     RISK_MM  RainTomorrow  \n",
       "894      0.0            No  \n",
       "895      0.0            No  \n",
       "896      0.0            No  \n",
       "897      0.0            No  \n",
       "898      0.0            No  \n",
       "\n",
       "[5 rows x 25 columns]"
      ]
     },
     "execution_count": 170,
     "metadata": {},
     "output_type": "execute_result"
    }
   ],
   "source": [
    "# sorting the data based on date\n",
    "data_filled=data_filled.sort_values(by='Date')\n",
    "data_filled.head()"
   ]
  },
  {
   "cell_type": "code",
   "execution_count": 171,
   "metadata": {},
   "outputs": [
    {
     "data": {
      "text/html": [
       "<div>\n",
       "<style scoped>\n",
       "    .dataframe tbody tr th:only-of-type {\n",
       "        vertical-align: middle;\n",
       "    }\n",
       "\n",
       "    .dataframe tbody tr th {\n",
       "        vertical-align: top;\n",
       "    }\n",
       "\n",
       "    .dataframe thead th {\n",
       "        text-align: right;\n",
       "    }\n",
       "</style>\n",
       "<table border=\"1\" class=\"dataframe\">\n",
       "  <thead>\n",
       "    <tr style=\"text-align: right;\">\n",
       "      <th></th>\n",
       "      <th>Unnamed: 0</th>\n",
       "      <th>MinTemp</th>\n",
       "      <th>MaxTemp</th>\n",
       "      <th>Rainfall</th>\n",
       "      <th>Evaporation</th>\n",
       "      <th>Sunshine</th>\n",
       "      <th>WindGustDir</th>\n",
       "      <th>WindGustSpeed</th>\n",
       "      <th>WindDir9am</th>\n",
       "      <th>WindDir3pm</th>\n",
       "      <th>...</th>\n",
       "      <th>Humidity9am</th>\n",
       "      <th>Humidity3pm</th>\n",
       "      <th>Pressure9am</th>\n",
       "      <th>Pressure3pm</th>\n",
       "      <th>Cloud9am</th>\n",
       "      <th>Cloud3pm</th>\n",
       "      <th>Temp9am</th>\n",
       "      <th>Temp3pm</th>\n",
       "      <th>RainToday</th>\n",
       "      <th>RainTomorrow</th>\n",
       "    </tr>\n",
       "  </thead>\n",
       "  <tbody>\n",
       "    <tr>\n",
       "      <th>894</th>\n",
       "      <td>169904</td>\n",
       "      <td>20.0</td>\n",
       "      <td>33.1</td>\n",
       "      <td>0.0</td>\n",
       "      <td>4.4</td>\n",
       "      <td>11.0</td>\n",
       "      <td>E</td>\n",
       "      <td>41.0</td>\n",
       "      <td>ENE</td>\n",
       "      <td>SSE</td>\n",
       "      <td>...</td>\n",
       "      <td>81.0</td>\n",
       "      <td>32.0</td>\n",
       "      <td>1016.0</td>\n",
       "      <td>1012.1</td>\n",
       "      <td>1.0</td>\n",
       "      <td>2.0</td>\n",
       "      <td>25.4</td>\n",
       "      <td>32.3</td>\n",
       "      <td>No</td>\n",
       "      <td>No</td>\n",
       "    </tr>\n",
       "    <tr>\n",
       "      <th>895</th>\n",
       "      <td>169905</td>\n",
       "      <td>19.4</td>\n",
       "      <td>32.4</td>\n",
       "      <td>0.0</td>\n",
       "      <td>6.0</td>\n",
       "      <td>10.4</td>\n",
       "      <td>ENE</td>\n",
       "      <td>50.0</td>\n",
       "      <td>SE</td>\n",
       "      <td>E</td>\n",
       "      <td>...</td>\n",
       "      <td>81.0</td>\n",
       "      <td>17.0</td>\n",
       "      <td>1016.8</td>\n",
       "      <td>1012.4</td>\n",
       "      <td>1.0</td>\n",
       "      <td>1.0</td>\n",
       "      <td>24.3</td>\n",
       "      <td>31.9</td>\n",
       "      <td>No</td>\n",
       "      <td>No</td>\n",
       "    </tr>\n",
       "    <tr>\n",
       "      <th>896</th>\n",
       "      <td>169906</td>\n",
       "      <td>18.2</td>\n",
       "      <td>31.8</td>\n",
       "      <td>0.0</td>\n",
       "      <td>8.0</td>\n",
       "      <td>11.0</td>\n",
       "      <td>E</td>\n",
       "      <td>46.0</td>\n",
       "      <td>ESE</td>\n",
       "      <td>ENE</td>\n",
       "      <td>...</td>\n",
       "      <td>38.0</td>\n",
       "      <td>24.0</td>\n",
       "      <td>1017.2</td>\n",
       "      <td>1013.0</td>\n",
       "      <td>0.0</td>\n",
       "      <td>1.0</td>\n",
       "      <td>24.3</td>\n",
       "      <td>31.2</td>\n",
       "      <td>No</td>\n",
       "      <td>No</td>\n",
       "    </tr>\n",
       "    <tr>\n",
       "      <th>897</th>\n",
       "      <td>169907</td>\n",
       "      <td>17.3</td>\n",
       "      <td>30.7</td>\n",
       "      <td>0.0</td>\n",
       "      <td>7.0</td>\n",
       "      <td>10.4</td>\n",
       "      <td>E</td>\n",
       "      <td>44.0</td>\n",
       "      <td>SE</td>\n",
       "      <td>E</td>\n",
       "      <td>...</td>\n",
       "      <td>55.0</td>\n",
       "      <td>16.0</td>\n",
       "      <td>1017.3</td>\n",
       "      <td>1013.6</td>\n",
       "      <td>2.0</td>\n",
       "      <td>6.0</td>\n",
       "      <td>21.3</td>\n",
       "      <td>29.8</td>\n",
       "      <td>No</td>\n",
       "      <td>No</td>\n",
       "    </tr>\n",
       "    <tr>\n",
       "      <th>898</th>\n",
       "      <td>169908</td>\n",
       "      <td>15.5</td>\n",
       "      <td>30.8</td>\n",
       "      <td>0.0</td>\n",
       "      <td>7.0</td>\n",
       "      <td>10.8</td>\n",
       "      <td>ESE</td>\n",
       "      <td>46.0</td>\n",
       "      <td>E</td>\n",
       "      <td>E</td>\n",
       "      <td>...</td>\n",
       "      <td>37.0</td>\n",
       "      <td>16.0</td>\n",
       "      <td>1016.3</td>\n",
       "      <td>1012.6</td>\n",
       "      <td>1.0</td>\n",
       "      <td>1.0</td>\n",
       "      <td>22.2</td>\n",
       "      <td>29.6</td>\n",
       "      <td>No</td>\n",
       "      <td>No</td>\n",
       "    </tr>\n",
       "  </tbody>\n",
       "</table>\n",
       "<p>5 rows × 22 columns</p>\n",
       "</div>"
      ],
      "text/plain": [
       "     Unnamed: 0  MinTemp  MaxTemp  Rainfall  Evaporation  Sunshine  \\\n",
       "894      169904     20.0     33.1       0.0          4.4      11.0   \n",
       "895      169905     19.4     32.4       0.0          6.0      10.4   \n",
       "896      169906     18.2     31.8       0.0          8.0      11.0   \n",
       "897      169907     17.3     30.7       0.0          7.0      10.4   \n",
       "898      169908     15.5     30.8       0.0          7.0      10.8   \n",
       "\n",
       "    WindGustDir  WindGustSpeed WindDir9am WindDir3pm  ...  Humidity9am  \\\n",
       "894           E           41.0        ENE        SSE  ...         81.0   \n",
       "895         ENE           50.0         SE          E  ...         81.0   \n",
       "896           E           46.0        ESE        ENE  ...         38.0   \n",
       "897           E           44.0         SE          E  ...         55.0   \n",
       "898         ESE           46.0          E          E  ...         37.0   \n",
       "\n",
       "     Humidity3pm  Pressure9am  Pressure3pm  Cloud9am  Cloud3pm  Temp9am  \\\n",
       "894         32.0       1016.0       1012.1       1.0       2.0     25.4   \n",
       "895         17.0       1016.8       1012.4       1.0       1.0     24.3   \n",
       "896         24.0       1017.2       1013.0       0.0       1.0     24.3   \n",
       "897         16.0       1017.3       1013.6       2.0       6.0     21.3   \n",
       "898         16.0       1016.3       1012.6       1.0       1.0     22.2   \n",
       "\n",
       "     Temp3pm  RainToday  RainTomorrow  \n",
       "894     32.3         No            No  \n",
       "895     31.9         No            No  \n",
       "896     31.2         No            No  \n",
       "897     29.8         No            No  \n",
       "898     29.6         No            No  \n",
       "\n",
       "[5 rows x 22 columns]"
      ]
     },
     "execution_count": 171,
     "metadata": {},
     "output_type": "execute_result"
    }
   ],
   "source": [
    "#Removing unwanted features, RISK_MM is same as target label hence removing with data and loaction  \n",
    "train_test = data_filled.drop(['Date', 'Location','RISK_MM'], axis=1)\n",
    "train_test.head()"
   ]
  },
  {
   "cell_type": "markdown",
   "metadata": {},
   "source": [
    "### 2-Data Preprocessing ( Encoding)"
   ]
  },
  {
   "cell_type": "code",
   "execution_count": 172,
   "metadata": {},
   "outputs": [],
   "source": [
    "WindGustDir_encode = LabelEncoder()\n",
    "train_test['WindGustDir']=WindGustDir_encode.fit_transform(data_final['WindGustDir'])\n",
    "\n",
    "WindDir9am_encode = LabelEncoder()\n",
    "train_test['WindDir9am']=WindDir9am_encode.fit_transform(data_final['WindDir9am'])\n",
    "\n",
    "WindDir3pm_encode = LabelEncoder()\n",
    "train_test['WindDir3pm']=WindDir3pm_encode.fit_transform(data_final['WindDir3pm'])\n",
    "\n",
    "RainToday_encode = LabelEncoder()\n",
    "train_test['RainToday']=RainToday_encode.fit_transform(data_final['RainToday'])\n",
    "\n",
    "RainTomorrow_encode = LabelEncoder()\n",
    "train_test['RainTomorrow']=RainTomorrow_encode.fit_transform(data_final[\"RainTomorrow\"])"
   ]
  },
  {
   "cell_type": "code",
   "execution_count": 173,
   "metadata": {},
   "outputs": [],
   "source": [
    "Y= train_test['RainTomorrow']\n",
    "X = train_test.drop(['RainTomorrow'],axis=1)"
   ]
  },
  {
   "cell_type": "code",
   "execution_count": 174,
   "metadata": {},
   "outputs": [],
   "source": [
    "#let's split the data\n",
    "from sklearn.model_selection import train_test_split"
   ]
  },
  {
   "cell_type": "code",
   "execution_count": 175,
   "metadata": {},
   "outputs": [],
   "source": [
    "X_train, X_test, y_train, y_test = train_test_split(X, Y, train_size=0.80)\n"
   ]
  },
  {
   "cell_type": "code",
   "execution_count": 176,
   "metadata": {},
   "outputs": [],
   "source": [
    "# we have to have the same scale\n",
    "from sklearn.preprocessing import StandardScaler\n",
    "scaler= StandardScaler()\n",
    "X_train = scaler.fit_transform(X_train)\n",
    "X_test = scaler.transform(X_test)"
   ]
  },
  {
   "cell_type": "markdown",
   "metadata": {},
   "source": [
    "### 3-Modeling the data using Logisitic Regression\n"
   ]
  },
  {
   "cell_type": "code",
   "execution_count": 177,
   "metadata": {},
   "outputs": [
    {
     "data": {
      "image/png": "[encoded data removed]",
      "text/plain": [
       "<Figure size 432x288 with 1 Axes>"
      ]
     },
     "metadata": {},
     "output_type": "display_data"
    }
   ],
   "source": [
    "# we have to choose the best estimator(Hyper-parameter )\n",
    "import math \n",
    "from sklearn.model_selection import RandomizedSearchCV,GridSearchCV\n",
    "def plotErrors(k,train,cv):\n",
    "       \n",
    "    plt.plot(k, train, label='Train logloss')\n",
    "    plt.plot(k, cv, label='CV logloss')\n",
    "    plt.legend()\n",
    "    plt.xlabel(\"log(C)= -log(λ)\")\n",
    "    plt.ylabel(\"Neg_Log Loss\")\n",
    "    plt.title(\"Error Plot for Train and Validation data\")\n",
    "    plt.grid()\n",
    "    plt.show()\n",
    "parameters={'C':[10**-6,10**-5,10**-4, 10**-2, 10**0, 10**2, 10**3] }\n",
    "log_c = list(map(lambda x : float(math.log(x)),parameters['C']))\n",
    "\n",
    "clf_log = LogisticRegression(penalty='l2',class_weight='balanced')\n",
    "\n",
    "clf = GridSearchCV(clf_log, parameters, cv=5, scoring='neg_log_loss',return_train_score =True)\n",
    "clf.fit(X_train, y_train)\n",
    "\n",
    "train_loss= clf.cv_results_['mean_train_score']\n",
    "cv_loss = clf.cv_results_['mean_test_score'] \n",
    "\n",
    "plotErrors(k=log_c,train=train_loss,cv=cv_loss)\n"
   ]
  },
  {
   "cell_type": "code",
   "execution_count": 178,
   "metadata": {},
   "outputs": [
    {
     "data": {
      "text/plain": [
       "LogisticRegression(C=1, class_weight='balanced', dual=False, fit_intercept=True,\n",
       "                   intercept_scaling=1, l1_ratio=None, max_iter=100,\n",
       "                   multi_class='auto', n_jobs=None, penalty='l2',\n",
       "                   random_state=None, solver='lbfgs', tol=0.0001, verbose=0,\n",
       "                   warm_start=False)"
      ]
     },
     "execution_count": 178,
     "metadata": {},
     "output_type": "execute_result"
    }
   ],
   "source": [
    "clf = clf.best_estimator_\n",
    "clf"
   ]
  },
  {
   "cell_type": "code",
   "execution_count": 179,
   "metadata": {},
   "outputs": [
    {
     "data": {
      "text/plain": [
       "LogisticRegression(C=1, class_weight='balanced', dual=False, fit_intercept=True,\n",
       "                   intercept_scaling=1, l1_ratio=None, max_iter=100,\n",
       "                   multi_class='auto', n_jobs=None, penalty='l2',\n",
       "                   random_state=None, solver='lbfgs', tol=0.0001, verbose=0,\n",
       "                   warm_start=False)"
      ]
     },
     "execution_count": 179,
     "metadata": {},
     "output_type": "execute_result"
    }
   ],
   "source": [
    "clf.fit(X_train, y_train)"
   ]
  },
  {
   "cell_type": "markdown",
   "metadata": {},
   "source": [
    "#### Feature interpretation\n"
   ]
  },
  {
   "cell_type": "code",
   "execution_count": 180,
   "metadata": {},
   "outputs": [
    {
     "data": {
      "text/plain": [
       "array([-0.0841552 ,  0.22837979, -0.01358062,  0.08857481,  0.03440467,\n",
       "       -0.47057263, -0.04999207,  0.80242046, -0.18957207, -0.02881954,\n",
       "       -0.13737851, -0.34663417,  0.20289957,  1.78746765,  1.20209298,\n",
       "       -1.52667371, -0.11711636,  0.22903712,  0.58787853,  0.23414618,\n",
       "        0.10996366])"
      ]
     },
     "execution_count": 180,
     "metadata": {},
     "output_type": "execute_result"
    }
   ],
   "source": [
    "clf.coef_[0]\n"
   ]
  },
  {
   "cell_type": "code",
   "execution_count": 181,
   "metadata": {},
   "outputs": [
    {
     "data": {
      "text/plain": [
       "[(1.7874676547368804, 'Humidity3pm'),\n",
       " (1.2020929798208053, 'Pressure9am'),\n",
       " (0.8024204639364931, 'WindGustSpeed'),\n",
       " (0.5878785329960171, 'Temp9am'),\n",
       " (0.23414617684118708, 'Temp3pm'),\n",
       " (0.22903712154954523, 'Cloud3pm'),\n",
       " (0.22837978779011234, 'MinTemp'),\n",
       " (0.20289956657064007, 'Humidity9am'),\n",
       " (0.10996366287067129, 'RainToday'),\n",
       " (0.08857480884980515, 'Rainfall'),\n",
       " (0.03440466876429249, 'Evaporation'),\n",
       " (-0.013580617041265536, 'MaxTemp'),\n",
       " (-0.02881954295115836, 'WindDir3pm'),\n",
       " (-0.04999207164501071, 'WindGustDir'),\n",
       " (-0.08415520139010635, 'Unnamed: 0'),\n",
       " (-0.11711636022076573, 'Cloud9am'),\n",
       " (-0.13737851207458537, 'WindSpeed9am'),\n",
       " (-0.18957206773307836, 'WindDir9am'),\n",
       " (-0.3466341708937976, 'WindSpeed3pm'),\n",
       " (-0.4705726297421624, 'Sunshine'),\n",
       " (-1.526673712603836, 'Pressure3pm')]"
      ]
     },
     "execution_count": 181,
     "metadata": {},
     "output_type": "execute_result"
    }
   ],
   "source": [
    "feature_weights=sorted(zip(clf.coef_[0],X.columns.tolist()),reverse = True)\n",
    "feature_weights"
   ]
  },
  {
   "cell_type": "markdown",
   "metadata": {},
   "source": [
    "Each weight corresponds to each feature, above are the sorted features based on its weight value. Higher weight value means higher important feature it is."
   ]
  },
  {
   "cell_type": "markdown",
   "metadata": {},
   "source": [
    "### 4- Model Evaluating\n"
   ]
  },
  {
   "cell_type": "code",
   "execution_count": 182,
   "metadata": {},
   "outputs": [
    {
     "name": "stdout",
     "output_type": "stream",
     "text": [
      "Log_loss on train data is :0.33950948526943764\n",
      "Log_loss on test data is :0.30953835060172546\n"
     ]
    }
   ],
   "source": [
    "from sklearn.metrics import roc_auc_score,roc_curve,auc,log_loss,confusion_matrix\n",
    "#Printing the log-loss for both trian and test data\n",
    "train_loss = log_loss(y_train, clf.predict_proba(X_train)[:,1])\n",
    "test_loss  =log_loss(y_test, clf.predict_proba(X_test)[:,1])\n",
    "\n",
    "\n",
    "print(\"Log_loss on train data is :{}\".format(train_loss))\n",
    "print(\"Log_loss on test data is :{}\".format(test_loss))"
   ]
  },
  {
   "cell_type": "markdown",
   "metadata": {},
   "source": [
    "The model prefectly fitted as it's not +∞"
   ]
  },
  {
   "cell_type": "markdown",
   "metadata": {},
   "source": [
    "##### Let's Test the model by giving some randomly values"
   ]
  },
  {
   "cell_type": "code",
   "execution_count": 204,
   "metadata": {},
   "outputs": [],
   "source": [
    "def will_be_flood_on_this_conditions(x):\n",
    "    \n",
    "    x[\"WindGustDir\"]=WindGustDir_encode.transform([x[\"WindGustDir\"]])\n",
    "    x[\"WindDir9am\"]=WindDir9am_encode.transform([x[\"WindDir9am\"]])\n",
    "    x[\"WindDir3pm\"]=WindDir3pm_encode.transform([x[\"WindDir3pm\"]])\n",
    "    x[\"RainToday\"]=RainToday_encode.transform([x[\"RainToday\"]])\n",
    "    x=np.array(list((x.values())))\n",
    "    final_x = scaler.transform(x.reshape(1, -1))\n",
    "    chance=clf.predict_proba(final_x)[:,1]\n",
    "    if chance>=0.5:\n",
    "        print(\"Yes, there is a {} % chance of flood can fall on tommorow \".format(chance*100))\n",
    "    else:\n",
    "        print(\"No, there is only {}% chance of flood hence we cannot expect rain on tommorow \".format(chance*100))\n",
    "    print(\"Because today's Humidity at 3pm ={}%,Atmosphereic Pressure at 9am={}millibars,and Wind Gust Speed ={}km/hr, which are very good sign for a strong rainfall\"\n",
    "          .format(Humidity3pm,Pressure9am,WindGustSpeed))"
   ]
  },
  {
   "cell_type": "code",
   "execution_count": 205,
   "metadata": {},
   "outputs": [],
   "source": [
    "#Giving one query point here\n",
    "\n",
    "MinTemp   = 16.2\n",
    "MaxTemp   = 21.7\n",
    "Rainfall   = 2.8\n",
    "Evaporation   = 5.4\n",
    "Sunshine   = 3.5\n",
    "WindGustDir   = \"NNW\"\n",
    "WindGustSpeed   = 80\n",
    "WindDir9am   = \"NNW\"\n",
    "WindDir3pm   = \"NNW\"\n",
    "WindSpeed9am   = 20\n",
    "WindSpeed3pm   = 13\n",
    "Humidity9am   = 81\n",
    "Humidity3pm   = 95\n",
    "Pressure9am   = 1007.2\n",
    "Pressure3pm   = 1006.1\n",
    "Cloud9am   = 7\n",
    "Cloud3pm   = 8\n",
    "Temp9am   = 24.8\n",
    "Temp3pm   = 22.4\n",
    "RainToday   =\"Yes\""
   ]
  },
  {
   "cell_type": "code",
   "execution_count": 209,
   "metadata": {},
   "outputs": [],
   "source": [
    "#FeaturesInput = [MinTemp,MaxTemp,Rainfall,\n",
    "        Evaporation,Sunshine,WindGustDir,\n",
    "        WindGustSpeed,WindDir9am,WindDir3pm,\n",
    "        WindSpeed9am,WindSpeed3pm,Humidity9am,\n",
    "        Humidity3pm,Pressure9am,Pressure3pm,\n",
    "        Cloud9am,Cloud3pm,Temp9am,Temp3pm,RainToday]\n",
    "x=dict()\n",
    "for i,name in enumerate(column_names):\n",
    "    x[name]=point[i]\n",
    "\n"
   ]
  },
  {
   "cell_type": "code",
   "execution_count": 207,
   "metadata": {},
   "outputs": [],
   "source": [
    "will_be_flood_on_this_conditions(x)"
   ]
  },
  {
   "cell_type": "markdown",
   "metadata": {},
   "source": [
    "Yes, there is a [98.29122] % chance of flood can fall on tommorow \n",
    "Because today's Humidity at 3pm =95%,Atmosphereic Pressure at 9am=1007.2millibars,and Wind Gust Speed =57km/hr, which are very good sign for a strong rainfall"
   ]
  },
  {
   "cell_type": "code",
   "execution_count": null,
   "metadata": {},
   "outputs": [],
   "source": []
  },
  {
   "cell_type": "code",
   "execution_count": null,
   "metadata": {},
   "outputs": [],
   "source": []
  },
  {
   "cell_type": "code",
   "execution_count": null,
   "metadata": {},
   "outputs": [],
   "source": []
  }
 ],
 "metadata": {
  "kernelspec": {
   "display_name": "Python 3",
   "language": "python",
   "name": "python3"
  }
 },
 "nbformat": 4,
 "nbformat_minor": 4
}
